{
 "cells": [
  {
   "cell_type": "code",
   "execution_count": null,
   "metadata": {},
   "outputs": [],
   "source": [
    "import pandas as pd\n",
    "import numpy as np\n",
    "import matplotlib.pyplot as plt\n",
    "from RMtools_1D import calculate_RMSF, rmtools_bwpredict\n",
    "%matplotlib inline\n",
    "import matplotlib as mpl\n",
    "mpl.rcParams['figure.dpi'] = 150"
   ]
  },
  {
   "cell_type": "code",
   "execution_count": null,
   "metadata": {},
   "outputs": [],
   "source": [
    "df = pd.read_csv(\"1603319074-J0419_54-corr.20220927.cube.statistics.tab\", sep=\"\\t\")\n",
    "df"
   ]
  },
  {
   "cell_type": "code",
   "execution_count": null,
   "metadata": {},
   "outputs": [],
   "source": [
    "plt.step(\n",
    "    df[\"frequency [MHz]\"],\n",
    "    df[\"rmsStokesV [uJy/beam]\"],\n",
    ")\n",
    "plt.axhline(np.nanmedian(df[\"rmsStokesV [uJy/beam]\"]), color=\"k\", ls=\"--\")\n",
    "plt.yscale(\"log\")"
   ]
  },
  {
   "cell_type": "code",
   "execution_count": null,
   "metadata": {},
   "outputs": [],
   "source": [
    "cut = np.nanmedian(df[\"rmsStokesV [uJy/beam]\"])\n",
    "good_freqs = []\n",
    "# Find intervals where rmsStokesV is above the median\n",
    "interval = []\n",
    "for i, point in enumerate(df[\"rmsStokesV [uJy/beam]\"]):\n",
    "    if point > cut and df[\"rmsStokesV [uJy/beam]\"][i+1] < cut:\n",
    "        start = df[\"frequency [MHz]\"][i] * 1e6\n",
    "        # print(\"Start of interval: \", start)\n",
    "        # plt.axvline(start, color=\"red\")\n",
    "        interval.append(start)\n",
    "    if point < cut and df[\"rmsStokesV [uJy/beam]\"][i+1] > cut:\n",
    "        stop = df[\"frequency [MHz]\"][i] * 1e6\n",
    "        # print(\"End of interval: \", stop)\n",
    "        # plt.axvline(stop, color=\"red\")\n",
    "        interval.append(stop)\n",
    "    \n",
    "    if len(interval) == 2:\n",
    "        print(\"Interval: \", interval)\n",
    "        good_freqs.append(interval)\n",
    "        interval = []"
   ]
  },
  {
   "cell_type": "code",
   "execution_count": null,
   "metadata": {},
   "outputs": [],
   "source": [
    "freq_list = np.loadtxt(\"freq.txt\")\n",
    "nchan = 1024\n",
    "for nchan in (\n",
    "    1024,\n",
    "    256,\n",
    "    128,\n",
    "    64,\n",
    "    32,\n",
    "):  \n",
    "    print(f\"\"\"\n",
    "########################################################################\n",
    "# nchan = {nchan}\n",
    "########################################################################\n",
    "    \"\"\"\n",
    "    )\n",
    "    freqs = np.linspace(freq_list[0], freq_list[-1], nchan)\n",
    "    idxs = []\n",
    "    for interval in good_freqs:\n",
    "        idx = np.where((freqs > interval[0]) & (freqs < interval[1]))\n",
    "        idxs.extend(idx[0])\n",
    "        # freqs = np.delete(freqs, idx)\n",
    "    calculate_RMSF.determine_RMSF_parameters(\n",
    "        freqs[idxs],\n",
    "        weights_array=None,\n",
    "        phi_max=None,\n",
    "        dphi=None,\n",
    "    )\n",
    "    adjoint_info = rmtools_bwpredict.bwdepol_compute_predictions(\n",
    "        freqs[idxs],\n",
    "    )\n",
    "    rmtools_bwpredict.plot_adjoint_info(adjoint_info)\n",
    "    plt.show()\n",
    "    print(\"\"\"\n",
    "########################################################################\n",
    "    \"\"\")"
   ]
  },
  {
   "cell_type": "code",
   "execution_count": null,
   "metadata": {},
   "outputs": [],
   "source": []
  }
 ],
 "metadata": {
  "kernelspec": {
   "display_name": "base",
   "language": "python",
   "name": "python3"
  },
  "language_info": {
   "codemirror_mode": {
    "name": "ipython",
    "version": 3
   },
   "file_extension": ".py",
   "mimetype": "text/x-python",
   "name": "python",
   "nbconvert_exporter": "python",
   "pygments_lexer": "ipython3",
   "version": "3.9.13"
  },
  "orig_nbformat": 4
 },
 "nbformat": 4,
 "nbformat_minor": 2
}
